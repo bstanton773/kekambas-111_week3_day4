{
 "cells": [
  {
   "cell_type": "code",
   "execution_count": 19,
   "id": "6a57d2e5",
   "metadata": {},
   "outputs": [],
   "source": [
    "class User:\n",
    "    id_counter = 1\n",
    "    \n",
    "    def __init__(self, username, password):\n",
    "        self.username = username\n",
    "        self.password = password[::-2]\n",
    "        self.id = User.id_counter\n",
    "        User.id_counter += 1\n",
    "        \n",
    "    def __str__(self):\n",
    "        return self.username\n",
    "    \n",
    "    def __repr__(self):\n",
    "        return f\"<User {self.id}|{self.username}>\"\n",
    "    \n",
    "    def check_password(self, password_guess):\n",
    "        return self.password == password_guess[::-2]\n",
    "    \n",
    "    \n",
    "# u1 = User('brians', 'abc123')\n",
    "# print(u1)\n",
    "# print(u1.password)\n",
    "# u1"
   ]
  },
  {
   "cell_type": "code",
   "execution_count": 10,
   "id": "3b81ff13",
   "metadata": {},
   "outputs": [
    {
     "data": {
      "text/plain": [
       "False"
      ]
     },
     "execution_count": 10,
     "metadata": {},
     "output_type": "execute_result"
    }
   ],
   "source": [
    "u1.check_password('31b')"
   ]
  },
  {
   "cell_type": "code",
   "execution_count": 11,
   "id": "c8913ab3",
   "metadata": {},
   "outputs": [
    {
     "name": "stdout",
     "output_type": "stream",
     "text": [
      "31b\n"
     ]
    },
    {
     "data": {
      "text/plain": [
       "<User 2|bstanton>"
      ]
     },
     "execution_count": 11,
     "metadata": {},
     "output_type": "execute_result"
    }
   ],
   "source": [
    "u2 = User('bstanton', 'dbx163')\n",
    "print(u2.password)\n",
    "u2"
   ]
  },
  {
   "cell_type": "code",
   "execution_count": 20,
   "id": "e274277d",
   "metadata": {
    "scrolled": false
   },
   "outputs": [
    {
     "data": {
      "text/plain": [
       "{<User 1|user - 0>,\n",
       " <User 2|user - 1>,\n",
       " <User 11|user - 10>,\n",
       " <User 12|user - 11>,\n",
       " <User 13|user - 12>,\n",
       " <User 14|user - 13>,\n",
       " <User 15|user - 14>,\n",
       " <User 16|user - 15>,\n",
       " <User 17|user - 16>,\n",
       " <User 18|user - 17>,\n",
       " <User 19|user - 18>,\n",
       " <User 20|user - 19>,\n",
       " <User 3|user - 2>,\n",
       " <User 21|user - 20>,\n",
       " <User 22|user - 21>,\n",
       " <User 23|user - 22>,\n",
       " <User 24|user - 23>,\n",
       " <User 25|user - 24>,\n",
       " <User 26|user - 25>,\n",
       " <User 27|user - 26>,\n",
       " <User 28|user - 27>,\n",
       " <User 29|user - 28>,\n",
       " <User 30|user - 29>,\n",
       " <User 4|user - 3>,\n",
       " <User 31|user - 30>,\n",
       " <User 32|user - 31>,\n",
       " <User 33|user - 32>,\n",
       " <User 34|user - 33>,\n",
       " <User 35|user - 34>,\n",
       " <User 36|user - 35>,\n",
       " <User 37|user - 36>,\n",
       " <User 38|user - 37>,\n",
       " <User 39|user - 38>,\n",
       " <User 40|user - 39>,\n",
       " <User 5|user - 4>,\n",
       " <User 41|user - 40>,\n",
       " <User 42|user - 41>,\n",
       " <User 43|user - 42>,\n",
       " <User 44|user - 43>,\n",
       " <User 45|user - 44>,\n",
       " <User 46|user - 45>,\n",
       " <User 47|user - 46>,\n",
       " <User 48|user - 47>,\n",
       " <User 49|user - 48>,\n",
       " <User 50|user - 49>,\n",
       " <User 6|user - 5>,\n",
       " <User 51|user - 50>,\n",
       " <User 52|user - 51>,\n",
       " <User 53|user - 52>,\n",
       " <User 54|user - 53>,\n",
       " <User 55|user - 54>,\n",
       " <User 56|user - 55>,\n",
       " <User 57|user - 56>,\n",
       " <User 58|user - 57>,\n",
       " <User 59|user - 58>,\n",
       " <User 60|user - 59>,\n",
       " <User 7|user - 6>,\n",
       " <User 61|user - 60>,\n",
       " <User 62|user - 61>,\n",
       " <User 63|user - 62>,\n",
       " <User 64|user - 63>,\n",
       " <User 65|user - 64>,\n",
       " <User 66|user - 65>,\n",
       " <User 67|user - 66>,\n",
       " <User 68|user - 67>,\n",
       " <User 69|user - 68>,\n",
       " <User 70|user - 69>,\n",
       " <User 8|user - 7>,\n",
       " <User 71|user - 70>,\n",
       " <User 72|user - 71>,\n",
       " <User 73|user - 72>,\n",
       " <User 74|user - 73>,\n",
       " <User 75|user - 74>,\n",
       " <User 76|user - 75>,\n",
       " <User 77|user - 76>,\n",
       " <User 78|user - 77>,\n",
       " <User 79|user - 78>,\n",
       " <User 80|user - 79>,\n",
       " <User 9|user - 8>,\n",
       " <User 81|user - 80>,\n",
       " <User 82|user - 81>,\n",
       " <User 83|user - 82>,\n",
       " <User 84|user - 83>,\n",
       " <User 85|user - 84>,\n",
       " <User 86|user - 85>,\n",
       " <User 87|user - 86>,\n",
       " <User 88|user - 87>,\n",
       " <User 89|user - 88>,\n",
       " <User 90|user - 89>,\n",
       " <User 10|user - 9>,\n",
       " <User 91|user - 90>,\n",
       " <User 92|user - 91>,\n",
       " <User 93|user - 92>,\n",
       " <User 94|user - 93>,\n",
       " <User 95|user - 94>,\n",
       " <User 96|user - 95>,\n",
       " <User 97|user - 96>,\n",
       " <User 98|user - 97>,\n",
       " <User 99|user - 98>,\n",
       " <User 100|user - 99>}"
      ]
     },
     "execution_count": 20,
     "metadata": {},
     "output_type": "execute_result"
    }
   ],
   "source": [
    "users = set()\n",
    "for i in range(100):\n",
    "    u = User(f'user - {i}', f'pass-{i}')\n",
    "    users.add(u)\n",
    "    \n",
    "users"
   ]
  },
  {
   "cell_type": "code",
   "execution_count": 14,
   "id": "84994599",
   "metadata": {},
   "outputs": [
    {
     "data": {
      "text/plain": [
       "102"
      ]
     },
     "execution_count": 14,
     "metadata": {},
     "output_type": "execute_result"
    }
   ],
   "source": [
    "User.id_counter"
   ]
  },
  {
   "cell_type": "code",
   "execution_count": 17,
   "id": "7eea8e45",
   "metadata": {},
   "outputs": [
    {
     "data": {
      "text/plain": [
       "<User 2|test>"
      ]
     },
     "execution_count": 17,
     "metadata": {},
     "output_type": "execute_result"
    }
   ],
   "source": [
    "new = User('test', 'test')\n",
    "new"
   ]
  },
  {
   "cell_type": "code",
   "execution_count": 22,
   "id": "fc407460",
   "metadata": {},
   "outputs": [
    {
     "data": {
      "text/plain": [
       "{'user - 0',\n",
       " 'user - 1',\n",
       " 'user - 10',\n",
       " 'user - 11',\n",
       " 'user - 12',\n",
       " 'user - 13',\n",
       " 'user - 14',\n",
       " 'user - 15',\n",
       " 'user - 16',\n",
       " 'user - 17',\n",
       " 'user - 18',\n",
       " 'user - 19',\n",
       " 'user - 2',\n",
       " 'user - 20',\n",
       " 'user - 21',\n",
       " 'user - 22',\n",
       " 'user - 23',\n",
       " 'user - 24',\n",
       " 'user - 25',\n",
       " 'user - 26',\n",
       " 'user - 27',\n",
       " 'user - 28',\n",
       " 'user - 29',\n",
       " 'user - 3',\n",
       " 'user - 30',\n",
       " 'user - 31',\n",
       " 'user - 32',\n",
       " 'user - 33',\n",
       " 'user - 34',\n",
       " 'user - 35',\n",
       " 'user - 36',\n",
       " 'user - 37',\n",
       " 'user - 38',\n",
       " 'user - 39',\n",
       " 'user - 4',\n",
       " 'user - 40',\n",
       " 'user - 41',\n",
       " 'user - 42',\n",
       " 'user - 43',\n",
       " 'user - 44',\n",
       " 'user - 45',\n",
       " 'user - 46',\n",
       " 'user - 47',\n",
       " 'user - 48',\n",
       " 'user - 49',\n",
       " 'user - 5',\n",
       " 'user - 50',\n",
       " 'user - 51',\n",
       " 'user - 52',\n",
       " 'user - 53',\n",
       " 'user - 54',\n",
       " 'user - 55',\n",
       " 'user - 56',\n",
       " 'user - 57',\n",
       " 'user - 58',\n",
       " 'user - 59',\n",
       " 'user - 6',\n",
       " 'user - 60',\n",
       " 'user - 61',\n",
       " 'user - 62',\n",
       " 'user - 63',\n",
       " 'user - 64',\n",
       " 'user - 65',\n",
       " 'user - 66',\n",
       " 'user - 67',\n",
       " 'user - 68',\n",
       " 'user - 69',\n",
       " 'user - 7',\n",
       " 'user - 70',\n",
       " 'user - 71',\n",
       " 'user - 72',\n",
       " 'user - 73',\n",
       " 'user - 74',\n",
       " 'user - 75',\n",
       " 'user - 76',\n",
       " 'user - 77',\n",
       " 'user - 78',\n",
       " 'user - 79',\n",
       " 'user - 8',\n",
       " 'user - 80',\n",
       " 'user - 81',\n",
       " 'user - 82',\n",
       " 'user - 83',\n",
       " 'user - 84',\n",
       " 'user - 85',\n",
       " 'user - 86',\n",
       " 'user - 87',\n",
       " 'user - 88',\n",
       " 'user - 89',\n",
       " 'user - 9',\n",
       " 'user - 90',\n",
       " 'user - 91',\n",
       " 'user - 92',\n",
       " 'user - 93',\n",
       " 'user - 94',\n",
       " 'user - 95',\n",
       " 'user - 96',\n",
       " 'user - 97',\n",
       " 'user - 98',\n",
       " 'user - 99'}"
      ]
     },
     "execution_count": 22,
     "metadata": {},
     "output_type": "execute_result"
    }
   ],
   "source": [
    "usernames_set = {u.username for u in users}\n",
    "usernames_set"
   ]
  },
  {
   "cell_type": "code",
   "execution_count": 23,
   "id": "972b886a",
   "metadata": {},
   "outputs": [
    {
     "data": {
      "text/plain": [
       "True"
      ]
     },
     "execution_count": 23,
     "metadata": {},
     "output_type": "execute_result"
    }
   ],
   "source": [
    "'user - 99' in usernames_set"
   ]
  }
 ],
 "metadata": {
  "kernelspec": {
   "display_name": "Python 3 (ipykernel)",
   "language": "python",
   "name": "python3"
  },
  "language_info": {
   "codemirror_mode": {
    "name": "ipython",
    "version": 3
   },
   "file_extension": ".py",
   "mimetype": "text/x-python",
   "name": "python",
   "nbconvert_exporter": "python",
   "pygments_lexer": "ipython3",
   "version": "3.9.13"
  }
 },
 "nbformat": 4,
 "nbformat_minor": 5
}
